{
  "nbformat": 4,
  "nbformat_minor": 0,
  "metadata": {
    "colab": {
      "provenance": [],
      "include_colab_link": true
    },
    "kernelspec": {
      "name": "python3",
      "display_name": "Python 3"
    },
    "accelerator": "GPU"
  },
  "cells": [
    {
      "cell_type": "markdown",
      "metadata": {
        "id": "view-in-github",
        "colab_type": "text"
      },
      "source": [
        "<a href=\"https://colab.research.google.com/github/wqw547243068/wangqiwen/blob/master/Pytorch%E5%AD%A6%E4%B9%A0%E7%AC%94%E8%AE%B0.ipynb\" target=\"_parent\"><img src=\"https://colab.research.google.com/assets/colab-badge.svg\" alt=\"Open In Colab\"/></a>"
      ]
    },
    {
      "cell_type": "markdown",
      "metadata": {
        "id": "jMZU29wnDI3x"
      },
      "source": [
        "# Pytorch学习笔记\n",
        "- ![](https://pytorch.apachecn.org/docs/img/logo.svg)\n",
        "- [Pytorch官网](https://pytorch.org/)，[官方教程](https://pytorch.org/tutorials/beginner/deep_learning_60min_blitz.html)，[PyTorch 1.2 中文文档](https://pytorch.apachecn.org/docs/1.2/)\n",
        "- [从头了解pytorch简单实现](https://zhuanlan.zhihu.com/p/35557976)\n",
        "- PyTorch 是一个建立在 Torch 库之上的 Python 包，旨在加速深度学习应用。\n",
        "- PyTorch 的工作流程非常接近于 Python 的科学计算库 NumPy\n",
        "-PyTorch 提供一种类似 NumPy 的抽象方法来表征张量（或多维数组），利用 GPU 来加速训练。\n"
      ]
    },
    {
      "cell_type": "markdown",
      "metadata": {
        "id": "r_U4Iac_qOP0"
      },
      "source": [
        "## 为什么要用pytorch\n",
        "- 便于使用的 API：如同 Python 那样简单。\n",
        "- 支持 Python：正如上文所述，PyTorch 可以平滑地与 Python 数据科学栈相结合。与 NumPy 一样简单，甚至都感觉不出区别。\n",
        "- 动态计算图：PyTorch 不再采用特定的函数**预定义**计算图，而是提供构建动态计算图的框架，甚至可以在运行时修正。这种动态框架在不知道所构建的神经网络需要多少内存时非常有用。\n",
        "- 其它优点：还有多 GPU 支持、自定义数据加载器和极简的预处理过程等"
      ]
    },
    {
      "cell_type": "markdown",
      "metadata": {
        "id": "mTe7hiDQDMcD"
      },
      "source": [
        "## 安装\n",
        "- 直接执行以下命令\n",
        "- Colab默认安装torch"
      ]
    },
    {
      "cell_type": "code",
      "metadata": {
        "id": "kAd_-BjEDErk"
      },
      "source": [
        "!sudo pip install torch torchvision"
      ],
      "execution_count": null,
      "outputs": []
    },
    {
      "cell_type": "markdown",
      "metadata": {
        "id": "vkQ_LY0XDVql"
      },
      "source": [
        "## PyTorch CUDA 接口\n",
        "\n",
        "- PyTorch 的优势之一是为张量和 autograd 库提供 CUDA 接口。使用 CUDA GPU，不仅可以加速神经网络训练和推断，还可以加速任何映射至 PyTorch 张量的工作负载\n"
      ]
    },
    {
      "cell_type": "code",
      "metadata": {
        "id": "ANYwsEwODZ10",
        "outputId": "6ffa3b93-f6fc-487e-889e-7697478f276e",
        "colab": {
          "base_uri": "https://localhost:8080/",
          "height": 34
        }
      },
      "source": [
        "import torch\n",
        "# 是否启用GPU\n",
        "print(torch.cuda.is_available())"
      ],
      "execution_count": null,
      "outputs": [
        {
          "output_type": "stream",
          "text": [
            "True\n"
          ],
          "name": "stdout"
        }
      ]
    },
    {
      "cell_type": "code",
      "metadata": {
        "id": "QZsR6xRcmsOz",
        "outputId": "b240bad7-3f06-4f29-fae1-4930f74e1ae7",
        "colab": {
          "base_uri": "https://localhost:8080/",
          "height": 34
        }
      },
      "source": [
        "cuda_gpu = torch.cuda.is_available()\n",
        "if (cuda_gpu):\n",
        "    print(\"Great, you have a GPU!\")\n",
        "else:\n",
        "    print(\"Life is short -- consider a GPU!\")"
      ],
      "execution_count": null,
      "outputs": [
        {
          "output_type": "stream",
          "text": [
            "Great, you have a GPU!\n"
          ],
          "name": "stdout"
        }
      ]
    },
    {
      "cell_type": "markdown",
      "metadata": {
        "id": "JC35hR26m2xf"
      },
      "source": [
        "- 使用 cuda 加速代码操作简单。\n",
        "- 张量上调用 .cuda()，则将执行从 CPU 到 CUDA GPU 的数据迁移。\n",
        "- 模型上调用 .cuda()，则不仅将所有内部储存移到 GPU，还将整个计算图映射至 GPU。\n",
        "- 将张量或模型复制回 CPU，比如和 NumPy 交互，可以调用 .cpu()。"
      ]
    },
    {
      "cell_type": "code",
      "metadata": {
        "id": "VAXA-B2Nm6Li",
        "outputId": "b4727283-502b-4b96-a873-c142b97f9fef",
        "colab": {
          "base_uri": "https://localhost:8080/",
          "height": 52
        }
      },
      "source": [
        "x = torch.cuda.HalfTensor(5, 3).uniform_(-1, 1)\n",
        "if cuda_gpu:\n",
        "    x = x.cuda()\n",
        "    print(type(x.data))\n",
        "\n",
        "x = x.cpu()\n",
        "print(type(x.data))"
      ],
      "execution_count": null,
      "outputs": [
        {
          "output_type": "stream",
          "text": [
            "<class 'torch.Tensor'>\n",
            "<class 'torch.Tensor'>\n"
          ],
          "name": "stdout"
        }
      ]
    },
    {
      "cell_type": "markdown",
      "metadata": {
        "id": "9I74Y6RNsc09"
      },
      "source": [
        "- PyTorch 是一个张量和动态神经网络 Python 库，它有着极其强大的 GPU 加速性能。我们一般可以直接定义 GPU 张量，也可以由 CPU 张量转化为 GPU 张量"
      ]
    },
    {
      "cell_type": "code",
      "metadata": {
        "id": "fQ2vA3NfseTR",
        "outputId": "29381ada-f2a8-4075-bc89-9d7997042fa1",
        "colab": {
          "base_uri": "https://localhost:8080/",
          "height": 281
        }
      },
      "source": [
        "x = torch.cuda.HalfTensor(5, 3).uniform_(-1, 1)\n",
        "y = torch.cuda.HalfTensor(3, 5).uniform_(-1, 1)\n",
        "z = torch.matmul(x, y)\n",
        "# 以下转化CPU张量为GPU张量\n",
        "x = torch.FloatTensor(5, 3).uniform_(-1, 1)\n",
        "print(x)\n",
        "x = x.cuda(device=0)\n",
        "print(x)\n",
        "x = x.cpu()\n",
        "print(x)"
      ],
      "execution_count": null,
      "outputs": [
        {
          "output_type": "stream",
          "text": [
            "tensor([[ 0.3929,  0.5614,  0.4400],\n",
            "        [-0.9461,  0.6248,  0.6440],\n",
            "        [-0.0402,  0.3965, -0.2627],\n",
            "        [ 0.8909,  0.1333,  0.6253],\n",
            "        [ 0.2236, -0.2934,  0.6288]])\n",
            "tensor([[ 0.3929,  0.5614,  0.4400],\n",
            "        [-0.9461,  0.6248,  0.6440],\n",
            "        [-0.0402,  0.3965, -0.2627],\n",
            "        [ 0.8909,  0.1333,  0.6253],\n",
            "        [ 0.2236, -0.2934,  0.6288]], device='cuda:0')\n",
            "tensor([[ 0.3929,  0.5614,  0.4400],\n",
            "        [-0.9461,  0.6248,  0.6440],\n",
            "        [-0.0402,  0.3965, -0.2627],\n",
            "        [ 0.8909,  0.1333,  0.6253],\n",
            "        [ 0.2236, -0.2934,  0.6288]])\n"
          ],
          "name": "stdout"
        }
      ]
    },
    {
      "cell_type": "markdown",
      "metadata": {
        "id": "G_NUn5WhEvdZ"
      },
      "source": [
        "## 基本操作\n"
      ]
    },
    {
      "cell_type": "markdown",
      "metadata": {
        "id": "knT2GcsSqmpH"
      },
      "source": [
        "### pytorch工作流\n",
        "- [从基础概念到实现，小白如何快速入门PyTorch](https://zhuanlan.zhihu.com/p/34072174)\n",
        "- PyTorch 使用 imperative / eager 的范式，即每一行代码都构建一个图，定义完整计算图的一个部分。即使完整的计算图还没有完成构建，也可以独立地执行这些作为组件的小计算图，这种动态计算图被称为「define-by-run」方法。\n",
        "- ![](https://pic3.zhimg.com/80/v2-5d56dc3930e0c68b2f1655b18265f172_hd.jpg)"
      ]
    },
    {
      "cell_type": "markdown",
      "metadata": {
        "id": "23AgFMbtq5JY"
      },
      "source": [
        "### pytorch基本元素\n",
        "- PyTorch 元素有 `PyTorch张量`、`数学运算`、`自动求导`模块、`最优化`模块和`神经网络`模块。"
      ]
    },
    {
      "cell_type": "markdown",
      "metadata": {
        "id": "0XovQ5Y4FZn0"
      },
      "source": [
        "### 张量定义\n",
        "- PyTorch 提供了 CPU 张量和 GPU 张量，并且极大地加速了计算的速度\n",
        "- PyTorch 的关键数据结构是张量，即多维数组。其功能与 NumPy 的 ndarray 对象类似，可以使用 torch.Tensor() 创建张量\n",
        "- 从张量的构建与运行就能体会到 PyTorch 相比 TensorFLow 需要声明张量、初始化张量要简洁地多\n",
        "-  PyTorch 是一种动态图，所以声明和真实赋值是同时进行的。"
      ]
    },
    {
      "cell_type": "code",
      "metadata": {
        "id": "5FDETHY5Fdz8",
        "outputId": "b6d15fc0-aaf5-4d6d-b10a-4cf0fc1d4805",
        "colab": {
          "base_uri": "https://localhost:8080/",
          "height": 122
        }
      },
      "source": [
        "# 直接创建张量\n",
        "x = torch.tensor([5.5, 3])\n",
        "x = torch.Tensor(5, 3).uniform_(-1, 1) # 初始化\n",
        "# 还可以从 Python 列表或 NumPy 数组中创建张量\n",
        "x1 = torch.FloatTensor([[1, 2, 3], [4, 5, 6]])\n",
        "print(x.shape, x.size())\n",
        "# 根据已有张量，创建类似张量\n",
        "x = x.new_ones(5, 3, dtype=torch.double) # 重新创建同型矩阵\n",
        "x = torch.randn_like(x, dtype=torch.float) # 类型重载\n",
        "print(x)"
      ],
      "execution_count": null,
      "outputs": [
        {
          "output_type": "stream",
          "text": [
            "torch.Size([5, 3]) torch.Size([5, 3])\n",
            "tensor([[-1.9145, -0.0637,  0.3472],\n",
            "        [ 0.9364,  0.4044, -0.3572],\n",
            "        [ 0.4980,  0.5884, -0.8081],\n",
            "        [-0.6985, -0.7798,  1.3185],\n",
            "        [ 1.2826, -0.0851,  0.3027]])\n"
          ],
          "name": "stdout"
        }
      ]
    },
    {
      "cell_type": "markdown",
      "metadata": {
        "id": "NptxcoFQrp11"
      },
      "source": [
        "- 在 PyTorch 中，torch.Tensor 是一种多维矩阵，其中每个元素都是一个单一的数据类型，且该构造函数默认的为 torch.FloatTensor\n",
        "- ![](https://pic1.zhimg.com/80/v2-30bdf2da7818df89735f3823fbe6f480_hd.jpg)"
      ]
    },
    {
      "cell_type": "code",
      "metadata": {
        "id": "8v-DCdTyDayM",
        "outputId": "9a5813ba-9d8f-44ec-aec0-adaed0ab54a1",
        "colab": {
          "base_uri": "https://localhost:8080/",
          "height": 281
        }
      },
      "source": [
        "# 随机数矩阵\n",
        "x1 = torch.rand(5,4) # 随机数矩阵\n",
        "x2 = torch.empty(5,4) # 全0矩阵\n",
        "x3 = torch.zeros(5, 3, dtype=torch.long) # 指定类型long\n",
        "print(x1)\n",
        "print(x2)\n",
        "print(x3)"
      ],
      "execution_count": null,
      "outputs": [
        {
          "output_type": "stream",
          "text": [
            "tensor([[0.9044, 0.4997, 0.5734, 0.2209],\n",
            "        [0.6095, 0.0081, 0.7900, 0.8921],\n",
            "        [0.4775, 0.9626, 0.1987, 0.6418],\n",
            "        [0.0729, 0.3608, 0.0355, 0.0073],\n",
            "        [0.8523, 0.8454, 0.2451, 0.3048]])\n",
            "tensor([[1.2499e-36, 0.0000e+00, 7.8333e-01, 7.5496e-01],\n",
            "        [9.2926e-01, 4.2440e-01, 5.1674e-01, 9.6982e-01],\n",
            "        [9.5904e-03, 9.1473e-01, 5.0849e-01, 7.8169e-01],\n",
            "        [7.6437e-02, 6.9647e-02, 2.8953e-01, 2.6078e-01],\n",
            "        [4.1580e-01, 3.4826e-01, 4.3625e-01, 5.4037e-01]])\n",
            "tensor([[0, 0, 0],\n",
            "        [0, 0, 0],\n",
            "        [0, 0, 0],\n",
            "        [0, 0, 0],\n",
            "        [0, 0, 0]])\n"
          ],
          "name": "stdout"
        }
      ]
    },
    {
      "cell_type": "markdown",
      "metadata": {
        "id": "JreJDmu6kDih"
      },
      "source": [
        "### PyTorch vs. NumPy\n",
        "\n",
        "- PyTorch 并不是 NumPy 的简单替代品，但它实现了很多 NumPy 功能。其中有一个不便之处是其命名规则，有时候和 NumPy 的命名方法相当不同"
      ]
    },
    {
      "cell_type": "code",
      "metadata": {
        "id": "0u1jkuFYkN6O",
        "outputId": "02c151f1-0d9e-4c93-d779-dc38154119cd",
        "colab": {
          "base_uri": "https://localhost:8080/",
          "height": 70
        }
      },
      "source": [
        "# 张量创建\n",
        "import torch\n",
        "import numpy as np\n",
        "t = torch.rand(2, 4) # pytorch\n",
        "a = np.random.rand(2, 4) # numpy\n",
        "print(t, a)"
      ],
      "execution_count": null,
      "outputs": [
        {
          "output_type": "stream",
          "text": [
            "tensor([[0.2498, 0.0799, 0.0588, 0.3556],\n",
            "        [0.8423, 0.7310, 0.4628, 0.4829]]) [[0.44965089 0.9431391  0.74788882 0.34552075]\n",
            " [0.43174829 0.65821966 0.18086936 0.58959034]]\n"
          ],
          "name": "stdout"
        }
      ]
    },
    {
      "cell_type": "code",
      "metadata": {
        "id": "ugJ4bh7nklkl",
        "outputId": "89d8e34d-c7f6-46d7-ec5d-3ed524261a65",
        "colab": {
          "base_uri": "https://localhost:8080/",
          "height": 122
        }
      },
      "source": [
        "# 张量分隔\n",
        "t = torch.rand(2, 4, 3, 5)\n",
        "a = t.numpy()\n",
        "pytorch_slice = t[0, 1:3, :, 4]\n",
        "numpy_slice =  a[0, 1:3, :, 4]\n",
        "print ('Tensor[0, 1:3, :, 4]:\\n', pytorch_slice)\n",
        "print ('NdArray[0, 1:3, :, 4]:\\n', numpy_slice)"
      ],
      "execution_count": null,
      "outputs": [
        {
          "output_type": "stream",
          "text": [
            "Tensor[0, 1:3, :, 4]:\n",
            " tensor([[0.5475, 0.6788, 0.2195],\n",
            "        [0.1671, 0.8646, 0.3062]])\n",
            "NdArray[0, 1:3, :, 4]:\n",
            " [[0.54747    0.67878675 0.21945965]\n",
            " [0.16706187 0.86455005 0.3061524 ]]\n"
          ],
          "name": "stdout"
        }
      ]
    },
    {
      "cell_type": "code",
      "metadata": {
        "id": "bAOR59PBkrtK"
      },
      "source": [
        "# 张量masking\n",
        "t = t - 0.5\n",
        "a = t.numpy()\n",
        "pytorch_masked = t[t > 0]\n",
        "numpy_masked = a[a > 0]"
      ],
      "execution_count": null,
      "outputs": []
    },
    {
      "cell_type": "code",
      "metadata": {
        "id": "hCpEV42rkxtk"
      },
      "source": [
        "# 张量重塑\n",
        "pytorch_reshape = t.view([6, 5, 4])\n",
        "numpy_reshape = a.reshape([6, 5, 4])"
      ],
      "execution_count": null,
      "outputs": []
    },
    {
      "cell_type": "code",
      "metadata": {
        "id": "2Wb-31PGOoRA",
        "outputId": "8094454e-358c-4752-9972-6dc44826c315",
        "colab": {
          "base_uri": "https://localhost:8080/",
          "height": 52
        }
      },
      "source": [
        "import numpy as np\n",
        "a = np.ones(5)\n",
        "# 类型转换numpy -> tensor\n",
        "b = torch.from_numpy(a)\n",
        "# 类型转换tensor -> numpy\n",
        "c = b.numpy()\n",
        "np.add(a, 1, out=a)\n",
        "print(a)\n",
        "print(b)"
      ],
      "execution_count": null,
      "outputs": [
        {
          "output_type": "stream",
          "text": [
            "[2. 2. 2. 2. 2.]\n",
            "tensor([2., 2., 2., 2., 2.], dtype=torch.float64)\n"
          ],
          "name": "stdout"
        }
      ]
    },
    {
      "cell_type": "code",
      "metadata": {
        "id": "KBN8fa8FPFJn"
      },
      "source": [
        "# 定义在指定设备上\n",
        "# let us run this cell only if CUDA is available\n",
        "# We will use ``torch.device`` objects to move tensors in and out of GPU\n",
        "if torch.cuda.is_available():\n",
        "    device = torch.device(\"cuda\")          # a CUDA device object\n",
        "    y = torch.ones_like(x, device=device)  # directly create a tensor on GPU\n",
        "    x = x.to(device)                       # or just use strings ``.to(\"cuda\")``\n",
        "    z = x + y\n",
        "    print(z)\n",
        "    print(z.to(\"cpu\", torch.double))       # ``.to`` can also change dtype together!"
      ],
      "execution_count": null,
      "outputs": []
    },
    {
      "cell_type": "markdown",
      "metadata": {
        "id": "3ACoS5YNk8XQ"
      },
      "source": [
        "### PyTorch 变量\n",
        "\n",
        "- PyTorch 张量的简单封装\n",
        "- 帮助建立计算图\n",
        "- Autograd（自动微分库）的必要部分\n",
        "- 将关于这些变量的梯度保存在 .grad 中\n",
        "- ![](https://pic1.zhimg.com/80/v2-49a674706155b84dddcbee3b75c4d4f0_hd.jpg)"
      ]
    },
    {
      "cell_type": "markdown",
      "metadata": {
        "id": "u3ugUefElK-1"
      },
      "source": [
        "- 计算图和变量：在 PyTorch 中，神经网络会使用相互连接的变量作为计算图来表示。\n",
        "- PyTorch 允许通过代码构建计算图来构建网络模型；\n",
        "- 之后 PyTorch 会简化估计模型权重的流程，例如通过自动计算梯度的方式。"
      ]
    },
    {
      "cell_type": "code",
      "metadata": {
        "id": "I1n7UhFWlSkJ",
        "outputId": "cd9d5d20-0ca1-4fde-b4a2-324a400008cd",
        "colab": {
          "base_uri": "https://localhost:8080/",
          "height": 140
        }
      },
      "source": [
        "# 两层神经网络模型\n",
        "from torch.autograd import Variable\n",
        "import torch.nn.functional as F\n",
        "# 把 requires_grad 设置为 True，表明我们想要自动计算梯度，这将用于反向传播中以优化权重。\n",
        "x = Variable(torch.randn(4, 1), requires_grad=False)\n",
        "y = Variable(torch.randn(3, 1), requires_grad=False)\n",
        "# 定义权重\n",
        "w1 = Variable(torch.randn(5, 4), requires_grad=True)\n",
        "w2 = Variable(torch.randn(3, 5), requires_grad=True)\n",
        "# 训练模型\n",
        "def model_forward(x):\n",
        "    return F.sigmoid(w2 @ F.sigmoid(w1 @ x))\n",
        "\n",
        "print (w1)\n",
        "print (w1.data.shape)\n",
        "print (w1.grad) # Initially, non-existent"
      ],
      "execution_count": null,
      "outputs": [
        {
          "output_type": "stream",
          "text": [
            "tensor([[ 1.0010,  0.0942,  0.4188, -1.9041],\n",
            "        [-0.1747, -1.0588, -1.3248,  1.9144],\n",
            "        [-0.9179, -0.1626,  2.1344, -0.3264],\n",
            "        [ 0.7102,  0.1502,  1.0701, -0.2468],\n",
            "        [-0.6168, -0.9746, -0.4285,  0.7049]], requires_grad=True)\n",
            "torch.Size([5, 4])\n",
            "None\n"
          ],
          "name": "stdout"
        }
      ]
    },
    {
      "cell_type": "markdown",
      "metadata": {
        "id": "3oZtN2y5s1Yf"
      },
      "source": [
        "### 数学运算\n",
        "- PyTorch 提供了一个简单的接口，并支持 200 多种数学运算"
      ]
    },
    {
      "cell_type": "code",
      "metadata": {
        "id": "3ia-4fUds4Jt"
      },
      "source": [
        "a = torch.FloatTensor([2])\n",
        "b = torch.FloatTensor([3])\n",
        "print(a + b)\n",
        "matrix = torch.randn(3, 3)\n",
        "matrix.t()"
      ],
      "execution_count": null,
      "outputs": []
    },
    {
      "cell_type": "markdown",
      "metadata": {
        "id": "2BEI5tR6l5S7"
      },
      "source": [
        "## PyTorch 反向传播\n",
        "- 有了输入和目标、模型权重，该训练模型了，涉及三个组件\n",
        "   - 损失函数：描述模型的预测距离目标还有多远\n",
        "   - 优化算法：用于更新权重\n",
        "   - 反向传播步骤"
      ]
    },
    {
      "cell_type": "code",
      "metadata": {
        "id": "q0l2qDxjlAx1",
        "outputId": "581ec62e-af13-4710-ae2f-fa5ec286b3bf",
        "colab": {
          "base_uri": "https://localhost:8080/",
          "height": 160
        }
      },
      "source": [
        "# 损失函数\n",
        "import torch.nn as nn\n",
        "criterion = nn.MSELoss()\n",
        "# 优化算法\n",
        "import torch.optim as optim\n",
        "optimizer = optim.SGD([w1, w2], lr=0.001)\n",
        "# 反向传播\n",
        "for epoch in range(10):\n",
        "    loss = criterion(model_forward(x), y)\n",
        "    optimizer.zero_grad() # Zero-out previous gradients\n",
        "    loss.backward() # Compute new gradients\n",
        "    optimizer.step() # Apply these gradients\n",
        "\n",
        "print (w1)"
      ],
      "execution_count": null,
      "outputs": [
        {
          "output_type": "stream",
          "text": [
            "/usr/local/lib/python3.6/dist-packages/torch/nn/functional.py:1386: UserWarning: nn.functional.sigmoid is deprecated. Use torch.sigmoid instead.\n",
            "  warnings.warn(\"nn.functional.sigmoid is deprecated. Use torch.sigmoid instead.\")\n"
          ],
          "name": "stderr"
        },
        {
          "output_type": "stream",
          "text": [
            "tensor([[ 1.0007,  0.0944,  0.4181, -1.9035],\n",
            "        [-0.1748, -1.0587, -1.3251,  1.9147],\n",
            "        [-0.9177, -0.1627,  2.1349, -0.3269],\n",
            "        [ 0.7105,  0.1500,  1.0708, -0.2474],\n",
            "        [-0.6168, -0.9746, -0.4284,  0.7048]], requires_grad=True)\n"
          ],
          "name": "stdout"
        }
      ]
    },
    {
      "cell_type": "markdown",
      "metadata": {
        "id": "5e9QmK0JICDc"
      },
      "source": [
        "### 张量操作"
      ]
    },
    {
      "cell_type": "code",
      "metadata": {
        "id": "5GPU74o1IGMl",
        "outputId": "35d1b815-6197-423a-f98e-34e5c3ba82fc",
        "colab": {
          "base_uri": "https://localhost:8080/",
          "height": 158
        }
      },
      "source": [
        "# numpy风格的切片操作\n",
        "x = torch.rand(4,4)\n",
        "print(x[:, 1])\n",
        "# 改变张量大小\n",
        "y = x.view(16)\n",
        "z = x.view(-1, 8)  # the size -1 is inferred from other dimensions\n",
        "print(x.size(), y.size(), z.size())\n",
        "print(x[0, 0].item()) # 返回张量\n",
        "print(x[0, 0].item()) # 返回数值\n",
        "print(x.numpy()) # 类型转换tensor -> numpy"
      ],
      "execution_count": null,
      "outputs": [
        {
          "output_type": "stream",
          "text": [
            "tensor([0.1420, 0.9265, 0.0128, 0.8404])\n",
            "torch.Size([4, 4]) torch.Size([16]) torch.Size([2, 8])\n",
            "0.4698783755302429\n",
            "0.4698783755302429\n",
            "[[0.46987838 0.14201146 0.67583615 0.7209214 ]\n",
            " [0.87422687 0.92653716 0.226452   0.763797  ]\n",
            " [0.0115633  0.01275897 0.14884573 0.71916825]\n",
            " [0.531294   0.84041625 0.79404986 0.5779078 ]]\n"
          ],
          "name": "stdout"
        }
      ]
    },
    {
      "cell_type": "markdown",
      "metadata": {
        "id": "xmggqiEgGrct"
      },
      "source": [
        "### 张量运算\n",
        "- PyTorch 同样支持广播（Broadcasting）操作，一般它会隐式地把一个数组的异常维度调整到与另一个算子相匹配的维度以实现维度兼容。"
      ]
    },
    {
      "cell_type": "code",
      "metadata": {
        "id": "oYO7ONCisNnl",
        "outputId": "ee9c46b5-6ca5-41f0-96b7-97379affc0c4",
        "colab": {
          "base_uri": "https://localhost:8080/",
          "height": 122
        }
      },
      "source": [
        "print (x.size())\n",
        "y = x + torch.randn(5, 1)\n",
        "print(y)"
      ],
      "execution_count": null,
      "outputs": [
        {
          "output_type": "stream",
          "text": [
            "torch.Size([5, 3])\n",
            "tensor([[-2.6610, -0.8102, -0.3993],\n",
            "        [-1.1363, -1.6683, -2.4299],\n",
            "        [ 1.3916,  1.4820,  0.0855],\n",
            "        [ 0.2906,  0.2092,  2.3076],\n",
            "        [ 2.2808,  0.9131,  1.3009]])\n"
          ],
          "name": "stdout"
        }
      ]
    },
    {
      "cell_type": "code",
      "metadata": {
        "id": "t1FYLigOEuNH",
        "outputId": "02ff0fbe-07e4-4584-f3ec-21564a9be737",
        "colab": {
          "base_uri": "https://localhost:8080/",
          "height": 457
        }
      },
      "source": [
        "x = torch.rand(5, 3)\n",
        "y = torch.rand(5, 3)\n",
        "print(y)\n",
        "# 直接求和\n",
        "print(x + y) # 方法一\n",
        "print(torch.add(x, y)) # 方法二\n",
        "# 指定输出\n",
        "result = torch.empty(5, 3)\n",
        "torch.add(x, y, out=result)\n",
        "print(result)\n",
        "# 直接累加\n",
        "y.add_(x)\n",
        "print(y)"
      ],
      "execution_count": null,
      "outputs": [
        {
          "output_type": "stream",
          "text": [
            "tensor([[0.7999, 0.0678, 0.8069],\n",
            "        [0.2546, 0.3553, 0.2818],\n",
            "        [0.4106, 0.0812, 0.8436],\n",
            "        [0.7542, 0.1841, 0.8337],\n",
            "        [0.5560, 0.2753, 0.4084]])\n",
            "tensor([[1.5921, 0.0998, 1.2672],\n",
            "        [1.1649, 0.6882, 1.0927],\n",
            "        [1.1799, 0.6566, 1.0445],\n",
            "        [1.0709, 0.9910, 1.0223],\n",
            "        [1.0247, 1.0304, 1.0594]])\n",
            "tensor([[1.5921, 0.0998, 1.2672],\n",
            "        [1.1649, 0.6882, 1.0927],\n",
            "        [1.1799, 0.6566, 1.0445],\n",
            "        [1.0709, 0.9910, 1.0223],\n",
            "        [1.0247, 1.0304, 1.0594]])\n",
            "tensor([[1.5921, 0.0998, 1.2672],\n",
            "        [1.1649, 0.6882, 1.0927],\n",
            "        [1.1799, 0.6566, 1.0445],\n",
            "        [1.0709, 0.9910, 1.0223],\n",
            "        [1.0247, 1.0304, 1.0594]])\n",
            "tensor([[1.5921, 0.0998, 1.2672],\n",
            "        [1.1649, 0.6882, 1.0927],\n",
            "        [1.1799, 0.6566, 1.0445],\n",
            "        [1.0709, 0.9910, 1.0223],\n",
            "        [1.0247, 1.0304, 1.0594]])\n"
          ],
          "name": "stdout"
        }
      ]
    },
    {
      "cell_type": "markdown",
      "metadata": {
        "id": "hmnBnM2YPce6"
      },
      "source": [
        "## Autograd\n",
        "- [官方文档](https://pytorch.org/tutorials/beginner/blitz/autograd_tutorial.html)\n",
        "- TensorFlow、Caffe 和 CNTK 等大多数框架都是使用的静态计算图，开发者必须建立或定义一个神经网络，并重复使用相同的结构来执行模型训练。改变网络的模式就意味着我们必须从头开始设计并定义相关的模块。\n",
        "- 但 PyTorch 使用的技术为自动微分（automatic differentiation）。在这种机制下，系统会有一个 Recorder 来记录我们执行的运算，然后再反向计算对应的梯度。这种技术在构建神经网络的过程中十分强大，因为我们可以通过计算前向传播过程中参数的微分来节省时间。"
      ]
    },
    {
      "cell_type": "code",
      "metadata": {
        "id": "bB0H8R8rtPaA"
      },
      "source": [
        "from torch.autograd import Variable\n",
        "\n",
        "x = Variable(train_x)\n",
        "y = Variable(train_y, requires_grad=False)"
      ],
      "execution_count": null,
      "outputs": []
    },
    {
      "cell_type": "markdown",
      "metadata": {
        "id": "LZNxSST5tUsA"
      },
      "source": [
        "- 从概念上来说，Autograd 会维护一个图并记录对变量执行的所有运算。这会产生一个有向无环图，其中叶结点为输入向量，根结点为输出向量。通过从根结点到叶结点追踪图的路径，我们可以轻易地使用链式法则自动计算梯度。\n",
        "- ![](https://pic2.zhimg.com/80/v2-e4c1c80aa49a152dec4cb3085a6f42ad_hd.jpg)\n",
        "- 在内部，Autograd 将这个图表征为 Function 对象的图，并且可以应用 apply() 计算评估图的结果。在计算前向传播中，当 Autograd 在执行请求的计算时，它还会同时构建一个表征梯度计算的图，且每个 Variable 的 .grad_fn 属性就是这个图的输入单元。在前向传播完成后，我们可以在后向传播中根据这个动态图来计算梯度。\n",
        "- 以下展示了通过 backward() 和 torch.autograd.grad 计算梯度的方法，其中 torch.eq() 评估表达式是不是相等，即 x.grad 的计算结果是不是等于 2x。"
      ]
    },
    {
      "cell_type": "code",
      "metadata": {
        "id": "xpcicgr-tgj2"
      },
      "source": [
        "x = Variable(torch.Tensor(5, 3).uniform_(-1, 1), requires_grad=True)\n",
        "y = Variable(torch.Tensor(5, 3).uniform_(-1, 1), requires_grad=True)\n",
        "z = x ** 2 + 3 * y\n",
        "# 使用 backward() 求解变量的梯度\n",
        "z.backward(gradient=torch.ones(5, 3))\n",
        "# 也可以使用 torch.autograd.grad 计算梯度\n",
        "dz_dx = torch.autograd.grad(z, x, grad_outputs=torch.ones(5, 3))\n",
        "dz_dy = torch.autograd.grad(z, y, grad_outputs=torch.ones(5, 3))\n",
        "# eq computes element-wise equality\n",
        "torch.eq(x.grad, 2 * x)\n",
        "# 对 y 求导的结果，即 dz/dy\n",
        "y.grad"
      ],
      "execution_count": null,
      "outputs": []
    },
    {
      "cell_type": "code",
      "metadata": {
        "id": "1tiNvnIPGcj6",
        "outputId": "ce6f1135-3e96-470d-8767-9063b6f84c47",
        "colab": {
          "base_uri": "https://localhost:8080/",
          "height": 52
        }
      },
      "source": [
        "x = torch.ones(2, 2, requires_grad=True)\n",
        "print(x)"
      ],
      "execution_count": null,
      "outputs": [
        {
          "output_type": "stream",
          "text": [
            "tensor([[1., 1.],\n",
            "        [1., 1.]], requires_grad=True)\n"
          ],
          "name": "stdout"
        }
      ]
    },
    {
      "cell_type": "markdown",
      "metadata": {
        "id": "6MaC4_XQt-EE"
      },
      "source": [
        "### 优化模块\n",
        "- torch.optim 是实现神经网络中多种优化算法的模块，它目前已经支持大多数一般的方法，所以我们不需要从头构建优化算法。以下展示了使用 Adam 优化器的基本代码"
      ]
    },
    {
      "cell_type": "code",
      "metadata": {
        "id": "zjr9q4q1t9x1"
      },
      "source": [
        "optimizer = torch.optim.Adam(model.parameters(), lr=learning_rate)"
      ],
      "execution_count": null,
      "outputs": []
    },
    {
      "cell_type": "markdown",
      "metadata": {
        "id": "Y9EkPBexuS_p"
      },
      "source": [
        "### 神经网络模块\n",
        "- PyTorch AutoGrad 使得计算图的定义和梯度的计算十分简单，但原版的 AutoGrad 可能对定义复杂的神经网络显得太底层，因此我们需要神经网络模块帮助简化工作。该 nn 包定义了一组函数，我们可以将其视为有一些可训练权重的神经网络层级。我们也可以将该神经网络模块视为类似于 Keras 的 PyTorch 组件。\n",
        "\n",
        "我们一般可以使用 torch.nn 包构建神经网络，下面提供了一些 API 的表达及意义\n",
        "- 线性层- nn.Linear、nn.Bilinear\n",
        "- 卷积层 - nn.Conv1d、nn.Conv2d、nn.Conv3d、nn.ConvTranspose2d\n",
        "- 非线性激活函数- nn.Sigmoid、nn.Tanh、nn.ReLU、nn.LeakyReLU\n",
        "- 池化层 - nn.MaxPool1d、nn.AveragePool2d\n",
        "- 循环网络 - nn.LSTM、nn.GRU\n",
        "- 归一化 - nn.BatchNorm2d\n",
        "- Dropout - nn.Dropout、nn.Dropout2d\n",
        "- 嵌入 - nn.Embedding\n",
        "- 损失函数 - nn.MSELoss、nn.CrossEntropyLoss、nn.NLLLoss"
      ]
    },
    {
      "cell_type": "code",
      "metadata": {
        "id": "-1wYKLNGuij4"
      },
      "source": [
        "import torch\n",
        "\n",
        "# define model\n",
        "model = torch.nn.Sequential(\n",
        " torch.nn.Linear(input_num_units, hidden_num_units),\n",
        " torch.nn.ReLU(),\n",
        " torch.nn.Linear(hidden_num_units, output_num_units),\n",
        ")\n",
        "loss_fn = torch.nn.CrossEntropyLoss()"
      ],
      "execution_count": null,
      "outputs": []
    },
    {
      "cell_type": "markdown",
      "metadata": {
        "id": "cvw4zZKrnLSc"
      },
      "source": [
        "## 模型训练\n",
        "- 定义两个函数（训练函数和测试函数）来使用我们的模型执行训练和推断任务。该代码同样来自 PyTorch 官方教程，我们摘选了所有训练／推断的必要步骤。\n",
        "- 对于训练和测试网络，我们需要执行一系列动作，这些动作可直接映射至PyTorch 代码：\n",
        "\n",
        "   - 1. 将模型转换到训练／推断模式；\n",
        "   - 2. 通过在数据集上成批获取图像，以迭代训练模型；\n",
        "   - 3. 对于每一个批量的图像，都要加载数据和标注，运行网络的前向步骤来获取模型输出；\n",
        "   - 4. 定义损失函数，计算每一个批量的模型输出和目标之间的损失；\n",
        "   - 5. 训练时，初始化梯度为零，使用上一步定义的优化器和反向传播，来计算所有与损失有关的层级梯度；\n",
        "   - 6. 训练时，执行权重更新步骤。"
      ]
    },
    {
      "cell_type": "code",
      "metadata": {
        "id": "ZoyKpiFDPthK"
      },
      "source": [
        "def train(model, epoch, criterion, optimizer, data_loader):\n",
        "    model.train()\n",
        "    for batch_idx, (data, target) in enumerate(data_loader):\n",
        "        if cuda_gpu:\n",
        "            data, target = data.cuda(), target.cuda()\n",
        "            model.cuda()\n",
        "        data, target = Variable(data), Variable(target)\n",
        "        output = model(data)\n",
        "\n",
        "        optimizer.zero_grad()\n",
        "        loss = criterion(output, target)\n",
        "        loss.backward()\n",
        "        optimizer.step()\n",
        "        if (batch_idx+1) % 400 == 0:\n",
        "            print('Train Epoch: {} [{}/{} ({:.0f}%)]\\tLoss: {:.6f}'.format(\n",
        "                epoch, (batch_idx+1) * len(data), len(data_loader.dataset),\n",
        "                100. * (batch_idx+1) / len(data_loader), loss.data[0]))\n",
        "\n",
        "\n",
        "def test(model, epoch, criterion, data_loader):\n",
        "    model.eval()\n",
        "    test_loss = 0\n",
        "    correct = 0\n",
        "    for data, target in data_loader:\n",
        "        if cuda_gpu:\n",
        "            data, target = data.cuda(), target.cuda()\n",
        "            model.cuda()\n",
        "        data, target = Variable(data), Variable(target)\n",
        "        output = model(data)\n",
        "        test_loss += criterion(output, target).data[0]\n",
        "        pred = output.data.max(1)[1] # get the index of the max log-probability\n",
        "        correct += pred.eq(target.data).cpu().sum()\n",
        "\n",
        "    test_loss /= len(data_loader) # loss function already averages over batch size\n",
        "    acc = correct / len(data_loader.dataset)\n",
        "    print('\\nTest set: Average loss: {:.4f}, Accuracy: {}/{} ({:.0f}%)\\n'.format(\n",
        "        test_loss, correct, len(data_loader.dataset), 100. * acc))\n",
        "    return (acc, test_loss)"
      ],
      "execution_count": null,
      "outputs": []
    },
    {
      "cell_type": "markdown",
      "metadata": {
        "id": "mHEpfgKDnjNP"
      },
      "source": [
        "## 用 PyTorch 进行数据分析\n",
        "- 使用 torch.nn 库构建模型\n",
        "   - PyTorch 的 nn 库中有大量有用的模块，其中一个就是线性模块\n",
        "- 使用 torch.autograd 库训练模型\n",
        "- 将数据封装进 torch.utils.data.Dataset 库\n",
        "- 使用 NumPy interface 连接你的模型、数据和你最喜欢的工具"
      ]
    },
    {
      "cell_type": "code",
      "metadata": {
        "id": "PgpxaiRXndzA",
        "outputId": "fc5bb95d-9caa-4e81-9620-e0349f936244",
        "colab": {
          "base_uri": "https://localhost:8080/",
          "height": 365
        }
      },
      "source": [
        "# skearn做线性回归\n",
        "from sklearn.datasets import make_regression\n",
        "import seaborn as sns\n",
        "import pandas as pd\n",
        "import matplotlib.pyplot as plt\n",
        "\n",
        "sns.set()\n",
        "\n",
        "x_train, y_train, W_target = make_regression(n_samples=100, n_features=1, noise=10, coef = True)\n",
        "\n",
        "df = pd.DataFrame(data = {'X':x_train.ravel(), 'Y':y_train.ravel()})\n",
        "\n",
        "sns.lmplot(x='X', y='Y', data=df, fit_reg=True)\n",
        "plt.show()\n",
        "\n",
        "x_torch = torch.FloatTensor(x_train)\n",
        "y_torch = torch.FloatTensor(y_train)\n",
        "y_torch = y_torch.view(y_torch.size()[0], 1)"
      ],
      "execution_count": null,
      "outputs": [
        {
          "output_type": "display_data",
          "data": {
            "image/png": "[encoded data removed]",
            "text/plain": [
              "<Figure size 360x360 with 1 Axes>"
            ]
          },
          "metadata": {
            "tags": []
          }
        }
      ]
    },
    {
      "cell_type": "code",
      "metadata": {
        "id": "d5XjzCfnnvIH",
        "outputId": "b30aa9de-7809-48a2-ab61-fc797c388bdf",
        "colab": {
          "base_uri": "https://localhost:8080/",
          "height": 274
        }
      },
      "source": [
        "class LinearRegression(torch.nn.Module):\n",
        "    def __init__(self, input_size, output_size):\n",
        "        super(LinearRegression, self).__init__()\n",
        "        self.linear = torch.nn.Linear(input_size, output_size)\n",
        "\n",
        "    def forward(self, x):\n",
        "        return self.linear(x)\n",
        "\n",
        "model = LinearRegression(1, 1)\n",
        "criterion = torch.nn.MSELoss()\n",
        "optimizer = torch.optim.SGD(model.parameters(), lr=0.1)\n",
        "\n",
        "\n",
        "for epoch in range(50):\n",
        "    data, target = Variable(x_torch), Variable(y_torch)\n",
        "    output = model(data)\n",
        "\n",
        "    optimizer.zero_grad()\n",
        "    loss = criterion(output, target)\n",
        "    loss.backward()\n",
        "    optimizer.step()\n",
        "\n",
        "predicted = model(Variable(x_torch)).data.numpy()\n",
        "# 画图\n",
        "plt.plot(x_train, y_train, 'o', label='Original data')\n",
        "plt.plot(x_train, predicted, label='Fitted line')\n",
        "plt.legend()\n",
        "plt.show()"
      ],
      "execution_count": null,
      "outputs": [
        {
          "output_type": "display_data",
          "data": {
            "image/png": "[encoded data removed]",
            "text/plain": [
              "<Figure size 432x288 with 1 Axes>"
            ]
          },
          "metadata": {
            "tags": []
          }
        }
      ]
    },
    {
      "cell_type": "markdown",
      "metadata": {
        "id": "68_iT6fJoLj0"
      },
      "source": [
        "- PyTorch 具备数据加载器和处理器，可用于不同的数据集。如mnist"
      ]
    },
    {
      "cell_type": "code",
      "metadata": {
        "id": "4jWrreepn4XZ",
        "outputId": "6bd99a93-33ba-4599-e493-0394e930d77e",
        "colab": {
          "base_uri": "https://localhost:8080/",
          "height": 283
        }
      },
      "source": [
        "from torchvision import datasets, transforms\n",
        "\n",
        "batch_num_size = 64\n",
        "\n",
        "train_loader = torch.utils.data.DataLoader(\n",
        "    datasets.MNIST('data',train=True, download=True, transform=transforms.Compose([\n",
        "        transforms.ToTensor(),\n",
        "        transforms.Normalize((0.1307,), (0.3081,))\n",
        "    ])),\n",
        "    batch_size=batch_num_size, shuffle=True)\n",
        "\n",
        "test_loader = torch.utils.data.DataLoader(\n",
        "    datasets.MNIST('data',train=False, transform=transforms.Compose([\n",
        "        transforms.ToTensor(),\n",
        "        transforms.Normalize((0.1307,), (0.3081,))\n",
        "    ])),\n",
        "    batch_size=batch_num_size, shuffle=True)"
      ],
      "execution_count": null,
      "outputs": [
        {
          "output_type": "stream",
          "text": [
            "\r0it [00:00, ?it/s]"
          ],
          "name": "stderr"
        },
        {
          "output_type": "stream",
          "text": [
            "Downloading http://yann.lecun.com/exdb/mnist/train-images-idx3-ubyte.gz to data/MNIST/raw/train-images-idx3-ubyte.gz\n"
          ],
          "name": "stdout"
        },
        {
          "output_type": "stream",
          "text": [
            "9920512it [00:01, 8046882.95it/s]                            \n"
          ],
          "name": "stderr"
        },
        {
          "output_type": "stream",
          "text": [
            "Extracting data/MNIST/raw/train-images-idx3-ubyte.gz\n"
          ],
          "name": "stdout"
        },
        {
          "output_type": "stream",
          "text": [
            "  0%|          | 0/28881 [00:00<?, ?it/s]"
          ],
          "name": "stderr"
        },
        {
          "output_type": "stream",
          "text": [
            "Downloading http://yann.lecun.com/exdb/mnist/train-labels-idx1-ubyte.gz to data/MNIST/raw/train-labels-idx1-ubyte.gz\n"
          ],
          "name": "stdout"
        },
        {
          "output_type": "stream",
          "text": [
            "32768it [00:00, 126447.39it/s]           \n",
            "  0%|          | 0/1648877 [00:00<?, ?it/s]"
          ],
          "name": "stderr"
        },
        {
          "output_type": "stream",
          "text": [
            "Extracting data/MNIST/raw/train-labels-idx1-ubyte.gz\n",
            "Downloading http://yann.lecun.com/exdb/mnist/t10k-images-idx3-ubyte.gz to data/MNIST/raw/t10k-images-idx3-ubyte.gz\n"
          ],
          "name": "stdout"
        },
        {
          "output_type": "stream",
          "text": [
            "1654784it [00:00, 2080497.05it/s]                            \n",
            "0it [00:00, ?it/s]"
          ],
          "name": "stderr"
        },
        {
          "output_type": "stream",
          "text": [
            "Extracting data/MNIST/raw/t10k-images-idx3-ubyte.gz\n",
            "Downloading http://yann.lecun.com/exdb/mnist/t10k-labels-idx1-ubyte.gz to data/MNIST/raw/t10k-labels-idx1-ubyte.gz\n"
          ],
          "name": "stdout"
        },
        {
          "output_type": "stream",
          "text": [
            "8192it [00:00, 47897.95it/s]            \n"
          ],
          "name": "stderr"
        },
        {
          "output_type": "stream",
          "text": [
            "Extracting data/MNIST/raw/t10k-labels-idx1-ubyte.gz\n",
            "Processing...\n",
            "Done!\n"
          ],
          "name": "stdout"
        }
      ]
    },
    {
      "cell_type": "markdown",
      "metadata": {
        "id": "jyzHJlZnoYa6"
      },
      "source": [
        "- 构建LeNet\n",
        "- 用 torch.nn 库中的多个模块：\n",
        "  - 1. 线性层：使用层的权重对输入张量执行线性变换；\n",
        "  - 2. Conv1 和 Conv2：卷积层，每个层输出在卷积核（小尺寸的权重张量）和同样尺寸输入区域之间的点积；\n",
        "  - 3. Relu：修正线性单元函数，使用逐元素的激活函数 max(0,x)；\n",
        "  - 4. 池化层：使用 max 运算执行特定区域的下采样（通常 2x2 像素）；\n",
        "  - 5. Dropout2D：随机将输入张量的所有通道设为零。当特征图具备强相关时，dropout2D 提升特征图之间的独立性；\n",
        "  - 6. Softmax：将 Log(Softmax(x)) 函数应用到 n 维输入张量，以使输出在 0 到 1 之间。"
      ]
    },
    {
      "cell_type": "code",
      "metadata": {
        "id": "eFytISH6oPAf",
        "outputId": "8013010e-b9c7-434a-aa42-a8889d9cd73a",
        "colab": {
          "base_uri": "https://localhost:8080/",
          "height": 175
        }
      },
      "source": [
        "class LeNet(nn.Module):\n",
        "    def __init__(self):\n",
        "        super(LeNet,self).__init__()\n",
        "        self.conv1 = nn.Conv2d(1,10,kernel_size=5)\n",
        "        self.conv2 = nn.Conv2d(10,20,kernel_size=5)\n",
        "        self.conv2_drop = nn.Dropout2d()\n",
        "        self.fc1 = nn.Linear(320,50)\n",
        "        self.fc2 = nn.Linear(50,10)\n",
        "\n",
        "    def forward(self,x):\n",
        "        x = F.relu(F.max_pool2d(self.conv1(x),2))\n",
        "        x = F.relu(F.max_pool2d(self.conv2_drop(self.conv2(x)),2))\n",
        "        x = x.view(-1, 320)\n",
        "        x = F.relu(self.fc1(x))\n",
        "        x = F.dropout(x, training=self.training)\n",
        "        x = self.fc2(x)\n",
        "        return F.log_softmax(x, dim=1)\n",
        "# 创建对象，并移至GPU\n",
        "model = LeNet()\n",
        "if cuda_gpu:\n",
        "    model.cuda()\n",
        "\n",
        "print ('MNIST_net model:\\n')\n",
        "print (model)"
      ],
      "execution_count": null,
      "outputs": [
        {
          "output_type": "stream",
          "text": [
            "MNIST_net model:\n",
            "\n",
            "LeNet(\n",
            "  (conv1): Conv2d(1, 10, kernel_size=(5, 5), stride=(1, 1))\n",
            "  (conv2): Conv2d(10, 20, kernel_size=(5, 5), stride=(1, 1))\n",
            "  (conv2_drop): Dropout2d(p=0.5)\n",
            "  (fc1): Linear(in_features=320, out_features=50, bias=True)\n",
            "  (fc2): Linear(in_features=50, out_features=10, bias=True)\n",
            ")\n"
          ],
          "name": "stdout"
        }
      ]
    },
    {
      "cell_type": "markdown",
      "metadata": {
        "id": "H7uR6UdXo1Js"
      },
      "source": [
        "- 要训练该模型，我们需要使用带动量的 SGD，学习率为 0.01，momentum 为 0.5。\n",
        "- 仅仅需要 5 个 epoch（一个 epoch 意味着你使用整个训练数据集来更新训练模型的权重），我们就可以训练出一个相当准确的 LeNet 模型。这段代码检查可以确定文件中是否已有预训练好的模型。有则加载；无则训练一个并保存至磁盘。"
      ]
    },
    {
      "cell_type": "code",
      "metadata": {
        "id": "GGESt4Htok0z",
        "outputId": "f833a771-0668-4624-e8d9-e4cfcb3eb51e",
        "colab": {
          "base_uri": "https://localhost:8080/",
          "height": 382
        }
      },
      "source": [
        "criterion = nn.CrossEntropyLoss()\n",
        "optimizer = optim.SGD(model.parameters(),lr = 0.005, momentum = 0.9)\n",
        "\n",
        "import os\n",
        "\n",
        "epochs = 5\n",
        "if (os.path.isfile('pretrained/MNIST_net.t7')):\n",
        "    print ('Loading model')\n",
        "    model.load_state_dict(torch.load('pretrained/MNIST_net.t7', map_location=lambda storage, loc: storage))\n",
        "    acc, loss = test(model, 1, criterion, test_loader)\n",
        "else:\n",
        "    print ('Training model')\n",
        "    for epoch in range(1, epochs + 1):\n",
        "        train(model, epoch, criterion, optimizer, train_loader)\n",
        "        acc, loss = test(model, 1, criterion, test_loader)\n",
        "    torch.save(model.state_dict(), 'pretrained/MNIST_net.t7')"
      ],
      "execution_count": null,
      "outputs": [
        {
          "output_type": "stream",
          "text": [
            "Training model\n"
          ],
          "name": "stdout"
        },
        {
          "output_type": "error",
          "ename": "IndexError",
          "evalue": "ignored",
          "traceback": [
            "\u001b[0;31m---------------------------------------------------------------------------\u001b[0m",
            "\u001b[0;31mIndexError\u001b[0m                                Traceback (most recent call last)",
            "\u001b[0;32m<ipython-input-22-d14da692bace>\u001b[0m in \u001b[0;36m<module>\u001b[0;34m()\u001b[0m\n\u001b[1;32m     12\u001b[0m     \u001b[0mprint\u001b[0m \u001b[0;34m(\u001b[0m\u001b[0;34m'Training model'\u001b[0m\u001b[0;34m)\u001b[0m\u001b[0;34m\u001b[0m\u001b[0;34m\u001b[0m\u001b[0m\n\u001b[1;32m     13\u001b[0m     \u001b[0;32mfor\u001b[0m \u001b[0mepoch\u001b[0m \u001b[0;32min\u001b[0m \u001b[0mrange\u001b[0m\u001b[0;34m(\u001b[0m\u001b[0;36m1\u001b[0m\u001b[0;34m,\u001b[0m \u001b[0mepochs\u001b[0m \u001b[0;34m+\u001b[0m \u001b[0;36m1\u001b[0m\u001b[0;34m)\u001b[0m\u001b[0;34m:\u001b[0m\u001b[0;34m\u001b[0m\u001b[0;34m\u001b[0m\u001b[0m\n\u001b[0;32m---> 14\u001b[0;31m         \u001b[0mtrain\u001b[0m\u001b[0;34m(\u001b[0m\u001b[0mmodel\u001b[0m\u001b[0;34m,\u001b[0m \u001b[0mepoch\u001b[0m\u001b[0;34m,\u001b[0m \u001b[0mcriterion\u001b[0m\u001b[0;34m,\u001b[0m \u001b[0moptimizer\u001b[0m\u001b[0;34m,\u001b[0m \u001b[0mtrain_loader\u001b[0m\u001b[0;34m)\u001b[0m\u001b[0;34m\u001b[0m\u001b[0;34m\u001b[0m\u001b[0m\n\u001b[0m\u001b[1;32m     15\u001b[0m         \u001b[0macc\u001b[0m\u001b[0;34m,\u001b[0m \u001b[0mloss\u001b[0m \u001b[0;34m=\u001b[0m \u001b[0mtest\u001b[0m\u001b[0;34m(\u001b[0m\u001b[0mmodel\u001b[0m\u001b[0;34m,\u001b[0m \u001b[0;36m1\u001b[0m\u001b[0;34m,\u001b[0m \u001b[0mcriterion\u001b[0m\u001b[0;34m,\u001b[0m \u001b[0mtest_loader\u001b[0m\u001b[0;34m)\u001b[0m\u001b[0;34m\u001b[0m\u001b[0;34m\u001b[0m\u001b[0m\n\u001b[1;32m     16\u001b[0m     \u001b[0mtorch\u001b[0m\u001b[0;34m.\u001b[0m\u001b[0msave\u001b[0m\u001b[0;34m(\u001b[0m\u001b[0mmodel\u001b[0m\u001b[0;34m.\u001b[0m\u001b[0mstate_dict\u001b[0m\u001b[0;34m(\u001b[0m\u001b[0;34m)\u001b[0m\u001b[0;34m,\u001b[0m \u001b[0;34m'pretrained/MNIST_net.t7'\u001b[0m\u001b[0;34m)\u001b[0m\u001b[0;34m\u001b[0m\u001b[0;34m\u001b[0m\u001b[0m\n",
            "\u001b[0;32m<ipython-input-15-c66f0dbc8d54>\u001b[0m in \u001b[0;36mtrain\u001b[0;34m(model, epoch, criterion, optimizer, data_loader)\u001b[0m\n\u001b[1;32m     15\u001b[0m             print('Train Epoch: {} [{}/{} ({:.0f}%)]\\tLoss: {:.6f}'.format(\n\u001b[1;32m     16\u001b[0m                 \u001b[0mepoch\u001b[0m\u001b[0;34m,\u001b[0m \u001b[0;34m(\u001b[0m\u001b[0mbatch_idx\u001b[0m\u001b[0;34m+\u001b[0m\u001b[0;36m1\u001b[0m\u001b[0;34m)\u001b[0m \u001b[0;34m*\u001b[0m \u001b[0mlen\u001b[0m\u001b[0;34m(\u001b[0m\u001b[0mdata\u001b[0m\u001b[0;34m)\u001b[0m\u001b[0;34m,\u001b[0m \u001b[0mlen\u001b[0m\u001b[0;34m(\u001b[0m\u001b[0mdata_loader\u001b[0m\u001b[0;34m.\u001b[0m\u001b[0mdataset\u001b[0m\u001b[0;34m)\u001b[0m\u001b[0;34m,\u001b[0m\u001b[0;34m\u001b[0m\u001b[0;34m\u001b[0m\u001b[0m\n\u001b[0;32m---> 17\u001b[0;31m                 100. * (batch_idx+1) / len(data_loader), loss.data[0]))\n\u001b[0m\u001b[1;32m     18\u001b[0m \u001b[0;34m\u001b[0m\u001b[0m\n\u001b[1;32m     19\u001b[0m \u001b[0;34m\u001b[0m\u001b[0m\n",
            "\u001b[0;31mIndexError\u001b[0m: invalid index of a 0-dim tensor. Use tensor.item() to convert a 0-dim tensor to a Python number"
          ]
        }
      ]
    },
    {
      "cell_type": "code",
      "metadata": {
        "id": "e023VyUlo-H5",
        "outputId": "ec8977a9-9bbf-418f-d588-2b920b951710",
        "colab": {
          "base_uri": "https://localhost:8080/",
          "height": 985
        }
      },
      "source": [
        "print ('Internal models:')\n",
        "for idx, m in enumerate(model.named_modules()):\n",
        "    print(idx, '->', m)\n",
        "    print ('-------------------------------------------------------------------------')\n",
        "\n",
        "print (type(t.cpu().data))\n",
        "if torch.cuda.is_available():\n",
        "    print (\"Cuda is available\")\n",
        "    print (type(t.cuda().data))\n",
        "else:\n",
        "    print (\"Cuda is NOT available\")\n",
        "print(type(t.cpu().data.numpy()))\n",
        "print(t.cpu().data.numpy().shape)\n",
        "print(t.cpu().data.numpy())"
      ],
      "execution_count": null,
      "outputs": [
        {
          "output_type": "stream",
          "text": [
            "Internal models:\n",
            "0 -> ('', LeNet(\n",
            "  (conv1): Conv2d(1, 10, kernel_size=(5, 5), stride=(1, 1))\n",
            "  (conv2): Conv2d(10, 20, kernel_size=(5, 5), stride=(1, 1))\n",
            "  (conv2_drop): Dropout2d(p=0.5)\n",
            "  (fc1): Linear(in_features=320, out_features=50, bias=True)\n",
            "  (fc2): Linear(in_features=50, out_features=10, bias=True)\n",
            "))\n",
            "-------------------------------------------------------------------------\n",
            "1 -> ('conv1', Conv2d(1, 10, kernel_size=(5, 5), stride=(1, 1)))\n",
            "-------------------------------------------------------------------------\n",
            "2 -> ('conv2', Conv2d(10, 20, kernel_size=(5, 5), stride=(1, 1)))\n",
            "-------------------------------------------------------------------------\n",
            "3 -> ('conv2_drop', Dropout2d(p=0.5))\n",
            "-------------------------------------------------------------------------\n",
            "4 -> ('fc1', Linear(in_features=320, out_features=50, bias=True))\n",
            "-------------------------------------------------------------------------\n",
            "5 -> ('fc2', Linear(in_features=50, out_features=10, bias=True))\n",
            "-------------------------------------------------------------------------\n",
            "<class 'torch.Tensor'>\n",
            "Cuda is NOT available\n",
            "<class 'numpy.ndarray'>\n",
            "(2, 4, 3, 5)\n",
            "[[[[ 0.27702516 -0.46388036 -0.37617743 -0.05088562  0.30144918]\n",
            "   [ 0.1417116   0.05744457  0.27185625 -0.4769733   0.48607546]\n",
            "   [ 0.46104038  0.31829137  0.22156191 -0.20534617 -0.06329638]]\n",
            "\n",
            "  [[ 0.2596162  -0.3128044  -0.46252686  0.00767171  0.04746997]\n",
            "   [ 0.3895213  -0.0818314   0.17896754 -0.16240156  0.17878675]\n",
            "   [ 0.4695682   0.3622368   0.43345708 -0.4452197  -0.28054035]]\n",
            "\n",
            "  [[ 0.16275221  0.05282837  0.0205583  -0.12817895 -0.33293813]\n",
            "   [-0.1389746   0.12065387  0.14981496  0.05018944  0.36455005]\n",
            "   [-0.448277    0.07433146  0.19643599  0.02773362 -0.1938476 ]]\n",
            "\n",
            "  [[-0.1989969  -0.2857728   0.13739759 -0.06873095 -0.44381487]\n",
            "   [ 0.22416568 -0.11297399  0.37842065  0.10569668 -0.36592066]\n",
            "   [-0.19389278 -0.10249543  0.33261937 -0.25941092 -0.2900309 ]]]\n",
            "\n",
            "\n",
            " [[[-0.0103206   0.17241317 -0.163719   -0.07537413  0.39669335]\n",
            "   [ 0.3860289   0.22574753 -0.34011227  0.12066609 -0.21092695]\n",
            "   [ 0.1956237  -0.41764402  0.30000174  0.00705421 -0.4688766 ]]\n",
            "\n",
            "  [[ 0.0302735  -0.03320092 -0.28591245  0.11667186  0.42392778]\n",
            "   [ 0.13480073 -0.23403478 -0.2432496   0.21163619  0.04654789]\n",
            "   [-0.4818141  -0.3072309   0.41540384  0.02334315 -0.05316007]]\n",
            "\n",
            "  [[ 0.3921488   0.16495538  0.19483942  0.09006387 -0.21717548]\n",
            "   [ 0.48218042 -0.10606879 -0.32092613  0.13288158  0.28713006]\n",
            "   [-0.13472295  0.460756    0.3131172  -0.10128719 -0.08864051]]\n",
            "\n",
            "  [[-0.444382   -0.12740886 -0.1083132   0.25422752  0.0321812 ]\n",
            "   [-0.4574306  -0.3119496   0.34857172 -0.11626261  0.07002062]\n",
            "   [-0.05756736  0.1423868   0.04666448  0.1708203  -0.23016906]]]]\n"
          ],
          "name": "stdout"
        }
      ]
    },
    {
      "cell_type": "markdown",
      "metadata": {
        "id": "JQgDrs69pb61"
      },
      "source": [
        "- 可视化卷积层滤波器"
      ]
    },
    {
      "cell_type": "code",
      "metadata": {
        "id": "ygT8vqDcpEm6",
        "outputId": "11c710b5-7492-4c6c-c8a9-70fcfe4e8c48",
        "colab": {
          "base_uri": "https://localhost:8080/",
          "height": 206
        }
      },
      "source": [
        "data = model.conv1.weight.cpu().data.numpy()\n",
        "print (data.shape)\n",
        "print (data[:, 0].shape)\n",
        "\n",
        "kernel_num = data.shape[0]\n",
        "\n",
        "fig, axes = plt.subplots(ncols=kernel_num, figsize=(2*kernel_num, 2))\n",
        "\n",
        "for col in range(kernel_num):\n",
        "    axes[col].imshow(data[col, 0, :, :], cmap=plt.cm.gray)\n",
        "plt.show()"
      ],
      "execution_count": null,
      "outputs": [
        {
          "output_type": "stream",
          "text": [
            "(10, 1, 5, 5)\n",
            "(10, 5, 5)\n"
          ],
          "name": "stdout"
        },
        {
          "output_type": "display_data",
          "data": {
            "image/png": "[encoded data removed]",
            "text/plain": [
              "<Figure size 1440x144 with 10 Axes>"
            ]
          },
          "metadata": {
            "tags": []
          }
        }
      ]
    },
    {
      "cell_type": "code",
      "metadata": {
        "id": "38NpiNtIpfOg"
      },
      "source": [],
      "execution_count": null,
      "outputs": []
    }
  ]
}